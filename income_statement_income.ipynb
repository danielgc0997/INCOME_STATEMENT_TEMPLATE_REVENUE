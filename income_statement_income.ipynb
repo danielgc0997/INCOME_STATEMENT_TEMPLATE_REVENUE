{
 "cells": [
  {
   "attachments": {},
   "cell_type": "markdown",
   "metadata": {},
   "source": [
    "# Income Statement Template\n",
    "\n",
    "Con esa plantilla, solo cambiando el nombre de los tickets pueden proyectarse una gráfica de barras paralelas para ver el comportamiento histórico de 4 empresas"
   ]
  },
  {
   "cell_type": "code",
   "execution_count": 1,
   "metadata": {},
   "outputs": [],
   "source": [
    "#Importando las librerías con las que vamos a trabajar\n",
    "\n",
    "import requests\n",
    "import matplotlib.pyplot as plt\n",
    "import seaborn as sns\n",
    "import pandas as pd\n",
    "import numpy as np\n"
   ]
  },
  {
   "cell_type": "code",
   "execution_count": 3,
   "metadata": {},
   "outputs": [
    {
     "name": "stdout",
     "output_type": "stream",
     "text": [
      "dict_keys(['date', 'symbol', 'reportedCurrency', 'cik', 'fillingDate', 'acceptedDate', 'calendarYear', 'period', 'revenue', 'costOfRevenue', 'grossProfit', 'grossProfitRatio', 'researchAndDevelopmentExpenses', 'generalAndAdministrativeExpenses', 'sellingAndMarketingExpenses', 'sellingGeneralAndAdministrativeExpenses', 'otherExpenses', 'operatingExpenses', 'costAndExpenses', 'interestIncome', 'interestExpense', 'depreciationAndAmortization', 'ebitda', 'ebitdaratio', 'operatingIncome', 'operatingIncomeRatio', 'totalOtherIncomeExpensesNet', 'incomeBeforeTax', 'incomeBeforeTaxRatio', 'incomeTaxExpense', 'netIncome', 'netIncomeRatio', 'eps', 'epsdiluted', 'weightedAverageShsOut', 'weightedAverageShsOutDil', 'link', 'finalLink'])\n",
      "******************************\n",
      "['2022', '2021', '2020', '2019']\n"
     ]
    }
   ],
   "source": [
    "#Llamado a la empresa 1\n",
    "\n",
    "api_key=\"d35d6a5134b9eda0f8fb15f2e80c1c0b\"\n",
    "company1=\"JPM\"\n",
    "years1=5\n",
    "\n",
    "#traemos la data requerida\n",
    "balance_sheet_company1=requests.get(f'https://financialmodelingprep.com/api/v3/income-statement/{company1}?limit{years1}&apikey={api_key}')\n",
    "balance_sheet_company1=balance_sheet_company1.json()\n",
    "#conzco las llaves\n",
    "\n",
    "print(balance_sheet_company1[0].keys())\n",
    "\n",
    "\n",
    "print(\"*\" * 30)\n",
    "\n",
    "#también puedes usar un bucle\n",
    "fechas_company1=[balance_sheet_company1[i][\"date\"].split(\"-\")[0] for i in range (4)]\n",
    "print(fechas_company1)"
   ]
  },
  {
   "cell_type": "code",
   "execution_count": 4,
   "metadata": {},
   "outputs": [
    {
     "name": "stdout",
     "output_type": "stream",
     "text": [
      "dict_keys(['date', 'symbol', 'reportedCurrency', 'cik', 'fillingDate', 'acceptedDate', 'calendarYear', 'period', 'revenue', 'costOfRevenue', 'grossProfit', 'grossProfitRatio', 'researchAndDevelopmentExpenses', 'generalAndAdministrativeExpenses', 'sellingAndMarketingExpenses', 'sellingGeneralAndAdministrativeExpenses', 'otherExpenses', 'operatingExpenses', 'costAndExpenses', 'interestIncome', 'interestExpense', 'depreciationAndAmortization', 'ebitda', 'ebitdaratio', 'operatingIncome', 'operatingIncomeRatio', 'totalOtherIncomeExpensesNet', 'incomeBeforeTax', 'incomeBeforeTaxRatio', 'incomeTaxExpense', 'netIncome', 'netIncomeRatio', 'eps', 'epsdiluted', 'weightedAverageShsOut', 'weightedAverageShsOutDil', 'link', 'finalLink'])\n",
      "['2022', '2021', '2020', '2019']\n"
     ]
    }
   ],
   "source": [
    "#Llamado a la 2da empresa \n",
    "\n",
    "api_key=\"d35d6a5134b9eda0f8fb15f2e80c1c0b\"\n",
    "company2=\"BAC\"\n",
    "years2=5\n",
    "\n",
    "#traemos la data requerida\n",
    "balance_sheet_company2=requests.get(f'https://financialmodelingprep.com/api/v3/income-statement/{company2}?limit{years2}&apikey={api_key}')\n",
    "balance_sheet_company2=balance_sheet_company2.json()\n",
    "\n",
    "#conozco las llaves\n",
    "print(balance_sheet_company2[0].keys())\n",
    "\n",
    "#encapsulo\n",
    "fechas_company2=[balance_sheet_company2[i][\"date\"].split(\"-\")[0] for i in range (4)]\n",
    "print(fechas_company2)\n",
    "\n",
    "\n"
   ]
  },
  {
   "cell_type": "code",
   "execution_count": 5,
   "metadata": {},
   "outputs": [
    {
     "name": "stdout",
     "output_type": "stream",
     "text": [
      "dict_keys(['date', 'symbol', 'reportedCurrency', 'cik', 'fillingDate', 'acceptedDate', 'calendarYear', 'period', 'revenue', 'costOfRevenue', 'grossProfit', 'grossProfitRatio', 'researchAndDevelopmentExpenses', 'generalAndAdministrativeExpenses', 'sellingAndMarketingExpenses', 'sellingGeneralAndAdministrativeExpenses', 'otherExpenses', 'operatingExpenses', 'costAndExpenses', 'interestIncome', 'interestExpense', 'depreciationAndAmortization', 'ebitda', 'ebitdaratio', 'operatingIncome', 'operatingIncomeRatio', 'totalOtherIncomeExpensesNet', 'incomeBeforeTax', 'incomeBeforeTaxRatio', 'incomeTaxExpense', 'netIncome', 'netIncomeRatio', 'eps', 'epsdiluted', 'weightedAverageShsOut', 'weightedAverageShsOutDil', 'link', 'finalLink'])\n",
      "['2022', '2021', '2020', '2019']\n"
     ]
    }
   ],
   "source": [
    "#Llamado a la 3ra empresa \n",
    "\n",
    "api_key=\"d35d6a5134b9eda0f8fb15f2e80c1c0b\"\n",
    "company3=\"WFC\"\n",
    "years3=5\n",
    "\n",
    "#traemos la data requerida\n",
    "balance_sheet_company3=requests.get(f'https://financialmodelingprep.com/api/v3/income-statement/{company3}?limit{years3}&apikey={api_key}')\n",
    "balance_sheet_company3=balance_sheet_company3.json()\n",
    "\n",
    "#conzco las variables\n",
    "print(balance_sheet_company3[0].keys())\n",
    "\n",
    "#conzoco los años y encpasulo\n",
    "\n",
    "fechas_company3=[balance_sheet_company3[i][\"date\"].split(\"-\")[0] for i in range (4)]\n",
    "print(fechas_company3)\n"
   ]
  },
  {
   "cell_type": "code",
   "execution_count": 6,
   "metadata": {},
   "outputs": [
    {
     "name": "stdout",
     "output_type": "stream",
     "text": [
      "dict_keys(['date', 'symbol', 'reportedCurrency', 'cik', 'fillingDate', 'acceptedDate', 'calendarYear', 'period', 'revenue', 'costOfRevenue', 'grossProfit', 'grossProfitRatio', 'researchAndDevelopmentExpenses', 'generalAndAdministrativeExpenses', 'sellingAndMarketingExpenses', 'sellingGeneralAndAdministrativeExpenses', 'otherExpenses', 'operatingExpenses', 'costAndExpenses', 'interestIncome', 'interestExpense', 'depreciationAndAmortization', 'ebitda', 'ebitdaratio', 'operatingIncome', 'operatingIncomeRatio', 'totalOtherIncomeExpensesNet', 'incomeBeforeTax', 'incomeBeforeTaxRatio', 'incomeTaxExpense', 'netIncome', 'netIncomeRatio', 'eps', 'epsdiluted', 'weightedAverageShsOut', 'weightedAverageShsOutDil', 'link', 'finalLink'])\n",
      "['2022', '2021', '2020', '2019']\n"
     ]
    }
   ],
   "source": [
    "#Llamado a la 4Ta empresa \n",
    "\n",
    "api_key=\"d35d6a5134b9eda0f8fb15f2e80c1c0b\"\n",
    "company4=\"SIVB\"\n",
    "years4=5\n",
    "\n",
    "#traemos la data requerida\n",
    "balance_sheet_company4=requests.get(f'https://financialmodelingprep.com/api/v3/income-statement/{company4}?limit{years4}&apikey={api_key}')\n",
    "balance_sheet_company4=balance_sheet_company4.json()\n",
    "\n",
    "#conociendo variables\n",
    "print(balance_sheet_company4[0].keys())\n",
    "\n",
    "#conociendo los años y enlistando para uso posterior\n",
    "\n",
    "fechas_company4=[balance_sheet_company4[i][\"date\"].split(\"-\")[0] for i in range (4)]\n",
    "print(fechas_company4)\n",
    "\n",
    "\n",
    "\n"
   ]
  },
  {
   "cell_type": "code",
   "execution_count": 59,
   "metadata": {},
   "outputs": [
    {
     "name": "stderr",
     "output_type": "stream",
     "text": [
      "C:\\Users\\DiezPro\\AppData\\Local\\Temp\\ipykernel_8896\\124643876.py:34: UserWarning: FixedFormatter should only be used together with FixedLocator\n",
      "  ax.set_yticklabels(y_ticklabels)\n"
     ]
    },
    {
     "data": {
      "text/plain": [
       "Text(0, 0.5, 'Income in USD - Billions')"
      ]
     },
     "execution_count": 59,
     "metadata": {},
     "output_type": "execute_result"
    },
    {
     "data": {
      "image/png": "[encoded data removed]",
      "text/plain": [
       "<Figure size 800x600 with 1 Axes>"
      ]
     },
     "metadata": {},
     "output_type": "display_data"
    }
   ],
   "source": [
    "revenue1=list(reversed([balance_sheet_company1[i][\"revenue\"] for i in range (4)]))\n",
    "revenue2=list(reversed([balance_sheet_company2[i][\"revenue\"] for i in range (4)]))\n",
    "revenue3=list(reversed([balance_sheet_company3[i][\"revenue\"] for i in range (4)]))\n",
    "revenue4=list(reversed([balance_sheet_company4[i][\"revenue\"] for i in range (4)]))\n",
    "\n",
    "years_fig=list(reversed([f'{fechas_company1[0]}', f'{fechas_company1[1]}', f'{fechas_company1[2]}', f'{fechas_company1[3]}']))\n",
    "revenues={f'{company1}' : revenue1,\n",
    "          f'{company2}' : revenue2,\n",
    "          f'{company3}' : revenue3,\n",
    "          f'{company4}' : revenue4\n",
    "          }\n",
    "\n",
    "x=np.arange(len(years_fig))\n",
    "width=0.15\n",
    "multiplier = 0\n",
    "\n",
    "fig,ax = plt.subplots(layout=\"constrained\",figsize=(8,6))\n",
    "\n",
    "for i,v in revenues.items():\n",
    "    offset= width*multiplier\n",
    "    rects= ax.bar(x+offset,v,width,label=i)\n",
    "    ax.bar_label(rects,labels=[f'{value/1e9:.1f}' for value in v],padding=1, fontsize=8)\n",
    "    multiplier +=1 \n",
    "\n",
    "\n",
    "# Add some text for labels, title and custom x-axis tick labels, etc.\n",
    "ax.set_ylabel(\"Revenue in USD\")\n",
    "ax.set_title(\"Historical Income by Company\")\n",
    "ax.set_xticks(x+width,years_fig)\n",
    "ax.legend(loc=\"upper center\",ncols=4)\n",
    "#repasar\n",
    "y_values = ax.get_yticks() / 1e9\n",
    "y_ticklabels = [f'{value:.0f}B' for value in y_values]\n",
    "ax.set_yticklabels(y_ticklabels)\n",
    "ax.set_xlabel(\"Years\")\n",
    "ax.set_ylabel(\"Income in USD - Billions\")\n",
    "\n"
   ]
  }
 ],
 "metadata": {
  "kernelspec": {
   "display_name": "Python 3",
   "language": "python",
   "name": "python3"
  },
  "language_info": {
   "codemirror_mode": {
    "name": "ipython",
    "version": 3
   },
   "file_extension": ".py",
   "mimetype": "text/x-python",
   "name": "python",
   "nbconvert_exporter": "python",
   "pygments_lexer": "ipython3",
   "version": "3.11.1"
  },
  "orig_nbformat": 4
 },
 "nbformat": 4,
 "nbformat_minor": 2
}
